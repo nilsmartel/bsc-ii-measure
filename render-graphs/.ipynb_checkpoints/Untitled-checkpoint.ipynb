{
 "cells": [
  {
   "cell_type": "code",
   "execution_count": 1,
   "id": "ea298183",
   "metadata": {},
   "outputs": [],
   "source": [
    "import numpy as np\n",
    "import pandas as pd\n",
    "import matplotlib.pyplot as plt"
   ]
  },
  {
   "cell_type": "code",
   "execution_count": 2,
   "id": "d7aa678f",
   "metadata": {},
   "outputs": [
    {
     "data": {
      "text/html": [
       "<div>\n",
       "<style scoped>\n",
       "    .dataframe tbody tr th:only-of-type {\n",
       "        vertical-align: middle;\n",
       "    }\n",
       "\n",
       "    .dataframe tbody tr th {\n",
       "        vertical-align: top;\n",
       "    }\n",
       "\n",
       "    .dataframe thead th {\n",
       "        text-align: right;\n",
       "    }\n",
       "</style>\n",
       "<table border=\"1\" class=\"dataframe\">\n",
       "  <thead>\n",
       "    <tr style=\"text-align: right;\">\n",
       "      <th></th>\n",
       "      <th>table</th>\n",
       "      <th>values</th>\n",
       "      <th>distinct_values</th>\n",
       "      <th>mean_cardinality</th>\n",
       "      <th>avg_cell_len</th>\n",
       "      <th>avg_tableid</th>\n",
       "      <th>avg_colid</th>\n",
       "      <th>avg_rowid</th>\n",
       "    </tr>\n",
       "  </thead>\n",
       "  <tbody>\n",
       "    <tr>\n",
       "      <th>0</th>\n",
       "      <td>cocoa_main_tokenized</td>\n",
       "      <td>8314523826</td>\n",
       "      <td>645008253</td>\n",
       "      <td>12.890570</td>\n",
       "      <td>9.087447</td>\n",
       "      <td>7.325916e+07</td>\n",
       "      <td>4.869254</td>\n",
       "      <td>1.114047e+02</td>\n",
       "    </tr>\n",
       "    <tr>\n",
       "      <th>1</th>\n",
       "      <td>gittables_main_tokenized</td>\n",
       "      <td>1588021298</td>\n",
       "      <td>97488582</td>\n",
       "      <td>16.289306</td>\n",
       "      <td>12.468851</td>\n",
       "      <td>8.494823e+05</td>\n",
       "      <td>18.848094</td>\n",
       "      <td>4.767343e+02</td>\n",
       "    </tr>\n",
       "    <tr>\n",
       "      <th>2</th>\n",
       "      <td>main_tokenized</td>\n",
       "      <td>8314523826</td>\n",
       "      <td>645008253</td>\n",
       "      <td>12.890570</td>\n",
       "      <td>9.087447</td>\n",
       "      <td>7.325916e+07</td>\n",
       "      <td>4.869254</td>\n",
       "      <td>1.114047e+02</td>\n",
       "    </tr>\n",
       "    <tr>\n",
       "      <th>3</th>\n",
       "      <td>open_data_main_tokenized</td>\n",
       "      <td>799930934</td>\n",
       "      <td>19776045</td>\n",
       "      <td>40.449490</td>\n",
       "      <td>7.986371</td>\n",
       "      <td>9.939454e+03</td>\n",
       "      <td>267.581213</td>\n",
       "      <td>1.058475e+06</td>\n",
       "    </tr>\n",
       "  </tbody>\n",
       "</table>\n",
       "</div>"
      ],
      "text/plain": [
       "                      table      values  distinct_values  mean_cardinality  \\\n",
       "0      cocoa_main_tokenized  8314523826        645008253         12.890570   \n",
       "1  gittables_main_tokenized  1588021298         97488582         16.289306   \n",
       "2            main_tokenized  8314523826        645008253         12.890570   \n",
       "3  open_data_main_tokenized   799930934         19776045         40.449490   \n",
       "\n",
       "   avg_cell_len   avg_tableid   avg_colid     avg_rowid  \n",
       "0      9.087447  7.325916e+07    4.869254  1.114047e+02  \n",
       "1     12.468851  8.494823e+05   18.848094  4.767343e+02  \n",
       "2      9.087447  7.325916e+07    4.869254  1.114047e+02  \n",
       "3      7.986371  9.939454e+03  267.581213  1.058475e+06  "
      ]
     },
     "execution_count": 2,
     "metadata": {},
     "output_type": "execute_result"
    }
   ],
   "source": [
    "tables = ['open_data_main_tokenized', 'gittables_main_tokenized', 'cocoa_main_tokenized', 'main_tokenized']\n",
    "\n",
    "opendata,gittables,cocoa,main = tables\n",
    "\n",
    "\n",
    "bitwidth = dict()\n",
    "linear = dict()\n",
    "\n",
    "for t in tables:\n",
    "    lin = pd.read_csv(f'./Histograms/{t}-histo.csv', sep=\";\")\n",
    "    width = pd.read_csv(f'./Histograms/{t}-histo.csv-bitwidth.csv', sep=\";\")\n",
    "\n",
    "    bitwidth[t] = width\n",
    "    linear[t] = lin\n",
    "\n",
    "\n",
    "info = pd.read_csv(\"./Histograms/table-info.csv\", sep=\";\")\n",
    "info"
   ]
  },
  {
   "cell_type": "code",
   "execution_count": 3,
   "id": "b9efacd7",
   "metadata": {},
   "outputs": [
    {
     "data": {
      "text/plain": [
       "0           0\n",
       "1      853801\n",
       "2      818390\n",
       "3     1600526\n",
       "4     3047560\n",
       "       ...   \n",
       "59          0\n",
       "60          0\n",
       "61          0\n",
       "62          0\n",
       "63          0\n",
       "Name: rows, Length: 64, dtype: int64"
      ]
     },
     "execution_count": 3,
     "metadata": {},
     "output_type": "execute_result"
    }
   ],
   "source": [
    "bitwidth[opendata]['rows']"
   ]
  },
  {
   "cell_type": "code",
   "execution_count": 4,
   "id": "b458ea2d",
   "metadata": {},
   "outputs": [],
   "source": [
    "def takeSparse(values):\n",
    "    i = len(values)\n",
    "    while i > 0:\n",
    "        if values[i-1] != 0:\n",
    "            return values[:i]\n",
    "    \n",
    "    return []\n",
    "\n",
    "def bitwidthHistogram(values, title, label=\"\"):\n",
    "    # cut out redundant information\n",
    "    values = takeSparse(values)\n",
    "    \n",
    "    fig, ax = plt.subplots()\n",
    "    x = list(range(len(values)))\n",
    "    ax.bar(x, values, label=label)\n",
    "    \n",
    "    ax.set_xlabel(\"bitwidth\")\n",
    "    ax.set_ylabel(\"# of occurences\")\n",
    "    ax.legend()\n",
    "    ax.set_titel(title)\n",
    "    return fig"
   ]
  },
  {
   "cell_type": "code",
   "execution_count": null,
   "id": "c23f6cc4",
   "metadata": {},
   "outputs": [],
   "source": [
    "f = bitwidthHistogram(bitwidth[opendata]['rows'], \"bits needed for rows\", \"\")\n",
    "f.show()"
   ]
  },
  {
   "cell_type": "code",
   "execution_count": null,
   "id": "c7388d58",
   "metadata": {},
   "outputs": [],
   "source": []
  }
 ],
 "metadata": {
  "kernelspec": {
   "display_name": "Python 3 (ipykernel)",
   "language": "python",
   "name": "python3"
  },
  "language_info": {
   "codemirror_mode": {
    "name": "ipython",
    "version": 3
   },
   "file_extension": ".py",
   "mimetype": "text/x-python",
   "name": "python",
   "nbconvert_exporter": "python",
   "pygments_lexer": "ipython3",
   "version": "3.10.7"
  }
 },
 "nbformat": 4,
 "nbformat_minor": 5
}
